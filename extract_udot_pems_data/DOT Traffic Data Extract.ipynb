{
 "metadata": {
  "name": "",
  "signature": "sha256:b61e08711cd99b4d2aa458aae34297ba80f2e1611f4f5e30429471848c2e4582"
 },
 "nbformat": 3,
 "nbformat_minor": 0,
 "worksheets": [
  {
   "cells": [
    {
     "cell_type": "code",
     "collapsed": false,
     "input": [
      "from selenium import webdriver\n",
      "from selenium.webdriver.common.keys import Keys\n",
      "\n",
      "# Load the website\n",
      "driver = webdriver.Firefox()\n",
      "driver.get(\"http://udot.bt-systems.com\")"
     ],
     "language": "python",
     "metadata": {},
     "outputs": [],
     "prompt_number": 45
    },
    {
     "cell_type": "code",
     "collapsed": false,
     "input": [
      "# be sure and log into the website"
     ],
     "language": "python",
     "metadata": {},
     "outputs": []
    },
    {
     "cell_type": "code",
     "collapsed": false,
     "input": [
      "# What do you want to download?"
     ],
     "language": "python",
     "metadata": {},
     "outputs": []
    },
    {
     "cell_type": "code",
     "collapsed": false,
     "input": [
      "# load and save pages"
     ],
     "language": "python",
     "metadata": {},
     "outputs": [],
     "prompt_number": 5
    },
    {
     "cell_type": "code",
     "collapsed": false,
     "input": [
      "stations = [428,516]\n",
      "\n",
      "station_id = stations[1]\n",
      "\n",
      "newpage = \"http://udot.bt-systems.com/?report_form=1&dnode=VDS&content=loops&export=text\" + \\\n",
      "    \"&station_id=\" + str(station_id) + \\\n",
      "    \"&s_time_id=1388534400&s_mm=1&s_dd=1&s_yy=2014&s_hh=0\" + \\\n",
      "    \"&e_time_id=1402707599&e_mm=6&e_dd=14&e_yy=2014&e_hh=0\" + \\\n",
      "    \"&tod=all&tod_from=0&tod_to=0&dow_0=on&dow_1=on&dow_2=on&dow_3=on&dow_4=on&dow_5=on&dow_6=on\" + \\\n",
      "    \"&holidays=on&q=flow&q2=&gn=day&agg=on&lane1=on&lane2=on&lane3=on&lane4=on\"\n",
      "\n",
      "driver.get(newpage)\n",
      "\n",
      "content = driver.page_source\n",
      "content = content.replace('<html xmlns=\"http://www.w3.org/1999/xhtml\"><head></head><body><pre>','')\n",
      "content = content.replace('</pre></body></html>','')\n",
      "\n",
      "# save contents to a file\n",
      "with open(\"data/station_\" + str(station_id) + \".tsv\", \"w\") as text_file:\n",
      "    print(content, file=text_file)"
     ],
     "language": "python",
     "metadata": {},
     "outputs": [],
     "prompt_number": 47
    }
   ],
   "metadata": {}
  }
 ]
}